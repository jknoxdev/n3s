{
 "cells": [
  {
   "cell_type": "raw",
   "id": "10d27f94-13a0-4ce2-aeea-e97cb501064c",
   "metadata": {},
   "source": [
    "- Provide Modular CLI version by pasting the output of `modular -v`"
   ]
  },
  {
   "cell_type": "code",
   "execution_count": 5,
   "id": "8f7a1b10-ef84-4c73-a267-8a101a411aed",
   "metadata": {},
   "outputs": [
    {
     "name": "stdout",
     "output_type": "stream",
     "text": [
      "zsh:1: command not found: modular\n"
     ]
    }
   ],
   "source": [
    "!modular -v"
   ]
  },
  {
   "cell_type": "markdown",
   "id": "ba9a2a7b-83d8-4505-bc52-116c3869f220",
   "metadata": {},
   "source": [
    "- Provide version information for Mojo by pasting the output of `mojo -v`"
   ]
  },
  {
   "cell_type": "code",
   "execution_count": 4,
   "id": "ec179316-018e-4fad-b7b3-48ddb38b7248",
   "metadata": {},
   "outputs": [
    {
     "name": "stdout",
     "output_type": "stream",
     "text": [
      "mojo 24.4.0 (59977802)\n"
     ]
    }
   ],
   "source": [
    "!mojo -v"
   ]
  },
  {
   "cell_type": "markdown",
   "id": "dd31478d-af8c-43d8-84ed-1b274ccd5d9e",
   "metadata": {},
   "source": [
    "- What OS did you do install Mojo on ?"
   ]
  },
  {
   "cell_type": "code",
   "execution_count": 1,
   "id": "632b39ef-9b28-4c2a-b55f-79b7eedd9696",
   "metadata": {},
   "outputs": [
    {
     "name": "stdout",
     "output_type": "stream",
     "text": [
      "Darwin m14m 23.6.0 Darwin Kernel Version 23.6.0: Mon Jul 29 21:14:21 PDT 2024; root:xnu-10063.141.2~1/RELEASE_ARM64_T8103 arm64\n"
     ]
    }
   ],
   "source": [
    "!uname -a"
   ]
  }
 ],
 "metadata": {
  "kernelspec": {
   "display_name": "Python 3 (ipykernel)",
   "language": "python",
   "name": "python3"
  },
  "language_info": {
   "codemirror_mode": {
    "name": "ipython",
    "version": 3
   },
   "file_extension": ".py",
   "mimetype": "text/x-python",
   "name": "python",
   "nbconvert_exporter": "python",
   "pygments_lexer": "ipython3",
   "version": "3.12.2"
  }
 },
 "nbformat": 4,
 "nbformat_minor": 5
}
