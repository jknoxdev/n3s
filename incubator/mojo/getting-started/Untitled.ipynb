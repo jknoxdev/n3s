{
 "cells": [
  {
   "cell_type": "code",
   "execution_count": null,
   "id": "c91b4b6f-2e03-4939-8c46-64436c97c80d",
   "metadata": {},
   "outputs": [],
   "source": [
    "- What OS did you do install Mojo on ?\n",
    "- Provide version information for Mojo by pasting the output of `mojo -v`\n",
    "- Provide Modular CLI version by pasting the output of `modular -v`"
   ]
  }
 ],
 "metadata": {
  "kernelspec": {
   "display_name": "Python 3 (ipykernel)",
   "language": "python",
   "name": "python3"
  },
  "language_info": {
   "codemirror_mode": {
    "name": "ipython",
    "version": 3
   },
   "file_extension": ".py",
   "mimetype": "text/x-python",
   "name": "python",
   "nbconvert_exporter": "python",
   "pygments_lexer": "ipython3",
   "version": "3.12.2"
  }
 },
 "nbformat": 4,
 "nbformat_minor": 5
}
