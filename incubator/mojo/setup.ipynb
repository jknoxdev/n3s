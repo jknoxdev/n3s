{
 "cells": [
  {
   "cell_type": "raw",
   "id": "c130cb1c-7357-4e12-8ee2-7520988e3b1d",
   "metadata": {},
   "source": [
    "## Excerpts from https://docs.modular.com/mojo/manual/get-started\n",
    "\n",
    "1. Create a new project\n",
    "\n",
    "To create a new Mojo project, we'll use Magic—a virtual environment manager and package manager based on conda.\n",
    "\n",
    "    Install Magic on macOS or Ubuntu Linux with this command:"
   ]
  },
  {
   "cell_type": "code",
   "execution_count": null,
   "id": "e215f8d2-7f14-4f04-a01d-2cbe33965e76",
   "metadata": {},
   "outputs": [],
   "source": [
    "curl -ssL https://magic.modular.com/df2aafd8-c5b3-4492-a049-fe14069ced1e | bash"
   ]
  },
  {
   "cell_type": "markdown",
   "id": "5f045017-5f7a-48b0-bac1-9be020b49140",
   "metadata": {},
   "source": [
    "Then run the source command printed in your terminal.\n",
    "\n",
    "Create a Mojo project called \"hello-world\":"
   ]
  },
  {
   "cell_type": "code",
   "execution_count": null,
   "id": "1b06fb12-099f-40d6-912b-6f279051bd51",
   "metadata": {},
   "outputs": [],
   "source": [
    "magic init hello-world --format mojoproject"
   ]
  },
  {
   "cell_type": "markdown",
   "id": "26cd2d44-8774-4bc7-9a3a-135c9635e2ce",
   "metadata": {},
   "source": [
    "This creates a directory named hello-world and installs the Mojo project dependencies—the only dependency for a Mojo project is the max package (Mojo is bundled with MAX).\n",
    "\n",
    "Start a shell in the project virtual environment:"
   ]
  },
  {
   "cell_type": "code",
   "execution_count": null,
   "id": "462daa34-4009-4cbe-8d05-ce57d8586e7e",
   "metadata": {},
   "outputs": [],
   "source": [
    "cd hello-world && magic shell"
   ]
  },
  {
   "cell_type": "markdown",
   "id": "0c3432eb-c936-4feb-992c-d9aed1094ad3",
   "metadata": {},
   "source": [
    "That's it! The magic shell command activates the virtual environment so you can now start using Mojo. For example, you can check your Mojo version like this:"
   ]
  },
  {
   "cell_type": "code",
   "execution_count": null,
   "id": "66e716e2-c4b6-401e-ace4-317dc577b53c",
   "metadata": {},
   "outputs": [],
   "source": [
    "mojo --version"
   ]
  }
 ],
 "metadata": {
  "kernelspec": {
   "display_name": "Python 3 (ipykernel)",
   "language": "python",
   "name": "python3"
  },
  "language_info": {
   "codemirror_mode": {
    "name": "ipython",
    "version": 3
   },
   "file_extension": ".py",
   "mimetype": "text/x-python",
   "name": "python",
   "nbconvert_exporter": "python",
   "pygments_lexer": "ipython3",
   "version": "3.12.2"
  }
 },
 "nbformat": 4,
 "nbformat_minor": 5
}
